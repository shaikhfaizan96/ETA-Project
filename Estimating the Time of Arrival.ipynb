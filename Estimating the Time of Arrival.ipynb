{
 "cells": [
  {
   "cell_type": "markdown",
   "id": "fd908297-1b99-431e-be27-d799a0fb0f89",
   "metadata": {},
   "source": [
    "## Importing the Libraries"
   ]
  },
  {
   "cell_type": "code",
   "execution_count": 1,
   "id": "077ef4d7-49b7-4a43-aa38-ebee20d5ba07",
   "metadata": {},
   "outputs": [],
   "source": [
    "import pandas as pd"
   ]
  },
  {
   "cell_type": "markdown",
   "id": "9e85481d-6876-4258-8194-a27ffd66f8d9",
   "metadata": {},
   "source": [
    "# imororting the Data"
   ]
  },
  {
   "cell_type": "code",
   "execution_count": 2,
   "id": "fd9b71ca-d677-4e19-9668-b1db32152977",
   "metadata": {},
   "outputs": [],
   "source": [
    "df = pd.read_csv(r\"C:\\Users\\Faizan\\Downloads\\hyderabad_eta_data.csv\")"
   ]
  },
  {
   "cell_type": "code",
   "execution_count": 3,
   "id": "5ed253e6-3881-467e-896c-c02aa4fe64d8",
   "metadata": {},
   "outputs": [
    {
     "data": {
      "text/html": [
       "<div>\n",
       "<style scoped>\n",
       "    .dataframe tbody tr th:only-of-type {\n",
       "        vertical-align: middle;\n",
       "    }\n",
       "\n",
       "    .dataframe tbody tr th {\n",
       "        vertical-align: top;\n",
       "    }\n",
       "\n",
       "    .dataframe thead th {\n",
       "        text-align: right;\n",
       "    }\n",
       "</style>\n",
       "<table border=\"1\" class=\"dataframe\">\n",
       "  <thead>\n",
       "    <tr style=\"text-align: right;\">\n",
       "      <th></th>\n",
       "      <th>start_lat</th>\n",
       "      <th>start_lng</th>\n",
       "      <th>end_lat</th>\n",
       "      <th>end_lng</th>\n",
       "      <th>distance_km</th>\n",
       "      <th>traffic_density</th>\n",
       "      <th>weather_condition</th>\n",
       "      <th>day_of_week</th>\n",
       "      <th>hour_of_day</th>\n",
       "      <th>ETA</th>\n",
       "    </tr>\n",
       "  </thead>\n",
       "  <tbody>\n",
       "    <tr>\n",
       "      <th>0</th>\n",
       "      <td>17.312362</td>\n",
       "      <td>78.355540</td>\n",
       "      <td>17.278512</td>\n",
       "      <td>78.501811</td>\n",
       "      <td>17.587880</td>\n",
       "      <td>3</td>\n",
       "      <td>rainy</td>\n",
       "      <td>3</td>\n",
       "      <td>17</td>\n",
       "      <td>26.113020</td>\n",
       "    </tr>\n",
       "    <tr>\n",
       "      <th>1</th>\n",
       "      <td>17.485214</td>\n",
       "      <td>78.462570</td>\n",
       "      <td>17.274094</td>\n",
       "      <td>78.539004</td>\n",
       "      <td>24.357538</td>\n",
       "      <td>8</td>\n",
       "      <td>clear</td>\n",
       "      <td>5</td>\n",
       "      <td>14</td>\n",
       "      <td>58.715248</td>\n",
       "    </tr>\n",
       "    <tr>\n",
       "      <th>2</th>\n",
       "      <td>17.419598</td>\n",
       "      <td>78.561884</td>\n",
       "      <td>17.471876</td>\n",
       "      <td>78.375140</td>\n",
       "      <td>23.044667</td>\n",
       "      <td>7</td>\n",
       "      <td>rainy</td>\n",
       "      <td>6</td>\n",
       "      <td>8</td>\n",
       "      <td>59.316409</td>\n",
       "    </tr>\n",
       "    <tr>\n",
       "      <th>3</th>\n",
       "      <td>17.379598</td>\n",
       "      <td>78.519667</td>\n",
       "      <td>17.274864</td>\n",
       "      <td>78.487462</td>\n",
       "      <td>5.463097</td>\n",
       "      <td>3</td>\n",
       "      <td>clear</td>\n",
       "      <td>2</td>\n",
       "      <td>17</td>\n",
       "      <td>35.630253</td>\n",
       "    </tr>\n",
       "    <tr>\n",
       "      <th>4</th>\n",
       "      <td>17.246806</td>\n",
       "      <td>78.541968</td>\n",
       "      <td>17.281585</td>\n",
       "      <td>78.471524</td>\n",
       "      <td>5.328235</td>\n",
       "      <td>6</td>\n",
       "      <td>clear</td>\n",
       "      <td>1</td>\n",
       "      <td>2</td>\n",
       "      <td>56.713490</td>\n",
       "    </tr>\n",
       "    <tr>\n",
       "      <th>...</th>\n",
       "      <td>...</td>\n",
       "      <td>...</td>\n",
       "      <td>...</td>\n",
       "      <td>...</td>\n",
       "      <td>...</td>\n",
       "      <td>...</td>\n",
       "      <td>...</td>\n",
       "      <td>...</td>\n",
       "      <td>...</td>\n",
       "      <td>...</td>\n",
       "    </tr>\n",
       "    <tr>\n",
       "      <th>995</th>\n",
       "      <td>17.227475</td>\n",
       "      <td>78.497087</td>\n",
       "      <td>17.459589</td>\n",
       "      <td>78.432632</td>\n",
       "      <td>27.024522</td>\n",
       "      <td>9</td>\n",
       "      <td>clear</td>\n",
       "      <td>2</td>\n",
       "      <td>4</td>\n",
       "      <td>18.585042</td>\n",
       "    </tr>\n",
       "    <tr>\n",
       "      <th>996</th>\n",
       "      <td>17.475194</td>\n",
       "      <td>78.586984</td>\n",
       "      <td>17.247182</td>\n",
       "      <td>78.400320</td>\n",
       "      <td>4.462049</td>\n",
       "      <td>1</td>\n",
       "      <td>rainy</td>\n",
       "      <td>5</td>\n",
       "      <td>14</td>\n",
       "      <td>42.688225</td>\n",
       "    </tr>\n",
       "    <tr>\n",
       "      <th>997</th>\n",
       "      <td>17.241046</td>\n",
       "      <td>78.320687</td>\n",
       "      <td>17.292936</td>\n",
       "      <td>78.418372</td>\n",
       "      <td>10.507442</td>\n",
       "      <td>1</td>\n",
       "      <td>clear</td>\n",
       "      <td>5</td>\n",
       "      <td>12</td>\n",
       "      <td>11.273635</td>\n",
       "    </tr>\n",
       "    <tr>\n",
       "      <th>998</th>\n",
       "      <td>17.485071</td>\n",
       "      <td>78.317116</td>\n",
       "      <td>17.287014</td>\n",
       "      <td>78.458982</td>\n",
       "      <td>24.656616</td>\n",
       "      <td>4</td>\n",
       "      <td>rainy</td>\n",
       "      <td>5</td>\n",
       "      <td>12</td>\n",
       "      <td>13.180450</td>\n",
       "    </tr>\n",
       "    <tr>\n",
       "      <th>999</th>\n",
       "      <td>17.333802</td>\n",
       "      <td>78.384656</td>\n",
       "      <td>17.461424</td>\n",
       "      <td>78.348410</td>\n",
       "      <td>18.322059</td>\n",
       "      <td>4</td>\n",
       "      <td>rainy</td>\n",
       "      <td>3</td>\n",
       "      <td>12</td>\n",
       "      <td>21.053944</td>\n",
       "    </tr>\n",
       "  </tbody>\n",
       "</table>\n",
       "<p>1000 rows × 10 columns</p>\n",
       "</div>"
      ],
      "text/plain": [
       "     start_lat  start_lng    end_lat    end_lng  distance_km  traffic_density  \\\n",
       "0    17.312362  78.355540  17.278512  78.501811    17.587880                3   \n",
       "1    17.485214  78.462570  17.274094  78.539004    24.357538                8   \n",
       "2    17.419598  78.561884  17.471876  78.375140    23.044667                7   \n",
       "3    17.379598  78.519667  17.274864  78.487462     5.463097                3   \n",
       "4    17.246806  78.541968  17.281585  78.471524     5.328235                6   \n",
       "..         ...        ...        ...        ...          ...              ...   \n",
       "995  17.227475  78.497087  17.459589  78.432632    27.024522                9   \n",
       "996  17.475194  78.586984  17.247182  78.400320     4.462049                1   \n",
       "997  17.241046  78.320687  17.292936  78.418372    10.507442                1   \n",
       "998  17.485071  78.317116  17.287014  78.458982    24.656616                4   \n",
       "999  17.333802  78.384656  17.461424  78.348410    18.322059                4   \n",
       "\n",
       "    weather_condition  day_of_week  hour_of_day        ETA  \n",
       "0               rainy            3           17  26.113020  \n",
       "1               clear            5           14  58.715248  \n",
       "2               rainy            6            8  59.316409  \n",
       "3               clear            2           17  35.630253  \n",
       "4               clear            1            2  56.713490  \n",
       "..                ...          ...          ...        ...  \n",
       "995             clear            2            4  18.585042  \n",
       "996             rainy            5           14  42.688225  \n",
       "997             clear            5           12  11.273635  \n",
       "998             rainy            5           12  13.180450  \n",
       "999             rainy            3           12  21.053944  \n",
       "\n",
       "[1000 rows x 10 columns]"
      ]
     },
     "execution_count": 3,
     "metadata": {},
     "output_type": "execute_result"
    }
   ],
   "source": [
    "df"
   ]
  },
  {
   "cell_type": "markdown",
   "id": "f51d3eb7-734b-4d0b-870a-bf6a9f41b8aa",
   "metadata": {},
   "source": [
    "Data Prepocessing "
   ]
  },
  {
   "cell_type": "markdown",
   "id": "7e8de0c4-fb95-4ef0-ab9a-9682e1e1c721",
   "metadata": {},
   "source": [
    "EDA"
   ]
  },
  {
   "cell_type": "code",
   "execution_count": 4,
   "id": "db022ac2-922f-4d18-aea5-c9b6c382d927",
   "metadata": {},
   "outputs": [
    {
     "data": {
      "text/plain": [
       "start_lat            0\n",
       "start_lng            0\n",
       "end_lat              0\n",
       "end_lng              0\n",
       "distance_km          0\n",
       "traffic_density      0\n",
       "weather_condition    0\n",
       "day_of_week          0\n",
       "hour_of_day          0\n",
       "ETA                  0\n",
       "dtype: int64"
      ]
     },
     "execution_count": 4,
     "metadata": {},
     "output_type": "execute_result"
    }
   ],
   "source": [
    "df.isna().sum()"
   ]
  },
  {
   "cell_type": "code",
   "execution_count": 5,
   "id": "f9201f9d-1c2d-458e-a314-cc61f364ffa4",
   "metadata": {},
   "outputs": [
    {
     "data": {
      "text/plain": [
       "0"
      ]
     },
     "execution_count": 5,
     "metadata": {},
     "output_type": "execute_result"
    }
   ],
   "source": [
    "df.duplicated().sum()"
   ]
  },
  {
   "cell_type": "code",
   "execution_count": 6,
   "id": "312bba52-2839-4240-a08f-7404ce9e193b",
   "metadata": {},
   "outputs": [
    {
     "data": {
      "text/html": [
       "<div>\n",
       "<style scoped>\n",
       "    .dataframe tbody tr th:only-of-type {\n",
       "        vertical-align: middle;\n",
       "    }\n",
       "\n",
       "    .dataframe tbody tr th {\n",
       "        vertical-align: top;\n",
       "    }\n",
       "\n",
       "    .dataframe thead th {\n",
       "        text-align: right;\n",
       "    }\n",
       "</style>\n",
       "<table border=\"1\" class=\"dataframe\">\n",
       "  <thead>\n",
       "    <tr style=\"text-align: right;\">\n",
       "      <th></th>\n",
       "      <th>start_lat</th>\n",
       "      <th>start_lng</th>\n",
       "      <th>end_lat</th>\n",
       "      <th>end_lng</th>\n",
       "      <th>distance_km</th>\n",
       "      <th>traffic_density</th>\n",
       "      <th>day_of_week</th>\n",
       "      <th>hour_of_day</th>\n",
       "      <th>ETA</th>\n",
       "    </tr>\n",
       "  </thead>\n",
       "  <tbody>\n",
       "    <tr>\n",
       "      <th>start_lat</th>\n",
       "      <td>1.000000</td>\n",
       "      <td>0.029310</td>\n",
       "      <td>0.014518</td>\n",
       "      <td>-0.029424</td>\n",
       "      <td>0.034785</td>\n",
       "      <td>-0.024754</td>\n",
       "      <td>0.055406</td>\n",
       "      <td>-0.014557</td>\n",
       "      <td>-0.030701</td>\n",
       "    </tr>\n",
       "    <tr>\n",
       "      <th>start_lng</th>\n",
       "      <td>0.029310</td>\n",
       "      <td>1.000000</td>\n",
       "      <td>0.027262</td>\n",
       "      <td>-0.005791</td>\n",
       "      <td>0.032911</td>\n",
       "      <td>0.000297</td>\n",
       "      <td>-0.048353</td>\n",
       "      <td>0.014242</td>\n",
       "      <td>-0.007978</td>\n",
       "    </tr>\n",
       "    <tr>\n",
       "      <th>end_lat</th>\n",
       "      <td>0.014518</td>\n",
       "      <td>0.027262</td>\n",
       "      <td>1.000000</td>\n",
       "      <td>-0.013560</td>\n",
       "      <td>-0.008858</td>\n",
       "      <td>-0.014043</td>\n",
       "      <td>-0.057856</td>\n",
       "      <td>-0.006245</td>\n",
       "      <td>0.061752</td>\n",
       "    </tr>\n",
       "    <tr>\n",
       "      <th>end_lng</th>\n",
       "      <td>-0.029424</td>\n",
       "      <td>-0.005791</td>\n",
       "      <td>-0.013560</td>\n",
       "      <td>1.000000</td>\n",
       "      <td>-0.044812</td>\n",
       "      <td>0.034494</td>\n",
       "      <td>0.017789</td>\n",
       "      <td>-0.012494</td>\n",
       "      <td>0.009425</td>\n",
       "    </tr>\n",
       "    <tr>\n",
       "      <th>distance_km</th>\n",
       "      <td>0.034785</td>\n",
       "      <td>0.032911</td>\n",
       "      <td>-0.008858</td>\n",
       "      <td>-0.044812</td>\n",
       "      <td>1.000000</td>\n",
       "      <td>-0.031475</td>\n",
       "      <td>0.066093</td>\n",
       "      <td>0.022646</td>\n",
       "      <td>-0.008686</td>\n",
       "    </tr>\n",
       "    <tr>\n",
       "      <th>traffic_density</th>\n",
       "      <td>-0.024754</td>\n",
       "      <td>0.000297</td>\n",
       "      <td>-0.014043</td>\n",
       "      <td>0.034494</td>\n",
       "      <td>-0.031475</td>\n",
       "      <td>1.000000</td>\n",
       "      <td>-0.010457</td>\n",
       "      <td>0.018572</td>\n",
       "      <td>-0.009196</td>\n",
       "    </tr>\n",
       "    <tr>\n",
       "      <th>day_of_week</th>\n",
       "      <td>0.055406</td>\n",
       "      <td>-0.048353</td>\n",
       "      <td>-0.057856</td>\n",
       "      <td>0.017789</td>\n",
       "      <td>0.066093</td>\n",
       "      <td>-0.010457</td>\n",
       "      <td>1.000000</td>\n",
       "      <td>0.020010</td>\n",
       "      <td>0.072280</td>\n",
       "    </tr>\n",
       "    <tr>\n",
       "      <th>hour_of_day</th>\n",
       "      <td>-0.014557</td>\n",
       "      <td>0.014242</td>\n",
       "      <td>-0.006245</td>\n",
       "      <td>-0.012494</td>\n",
       "      <td>0.022646</td>\n",
       "      <td>0.018572</td>\n",
       "      <td>0.020010</td>\n",
       "      <td>1.000000</td>\n",
       "      <td>0.009233</td>\n",
       "    </tr>\n",
       "    <tr>\n",
       "      <th>ETA</th>\n",
       "      <td>-0.030701</td>\n",
       "      <td>-0.007978</td>\n",
       "      <td>0.061752</td>\n",
       "      <td>0.009425</td>\n",
       "      <td>-0.008686</td>\n",
       "      <td>-0.009196</td>\n",
       "      <td>0.072280</td>\n",
       "      <td>0.009233</td>\n",
       "      <td>1.000000</td>\n",
       "    </tr>\n",
       "  </tbody>\n",
       "</table>\n",
       "</div>"
      ],
      "text/plain": [
       "                 start_lat  start_lng   end_lat   end_lng  distance_km  \\\n",
       "start_lat         1.000000   0.029310  0.014518 -0.029424     0.034785   \n",
       "start_lng         0.029310   1.000000  0.027262 -0.005791     0.032911   \n",
       "end_lat           0.014518   0.027262  1.000000 -0.013560    -0.008858   \n",
       "end_lng          -0.029424  -0.005791 -0.013560  1.000000    -0.044812   \n",
       "distance_km       0.034785   0.032911 -0.008858 -0.044812     1.000000   \n",
       "traffic_density  -0.024754   0.000297 -0.014043  0.034494    -0.031475   \n",
       "day_of_week       0.055406  -0.048353 -0.057856  0.017789     0.066093   \n",
       "hour_of_day      -0.014557   0.014242 -0.006245 -0.012494     0.022646   \n",
       "ETA              -0.030701  -0.007978  0.061752  0.009425    -0.008686   \n",
       "\n",
       "                 traffic_density  day_of_week  hour_of_day       ETA  \n",
       "start_lat              -0.024754     0.055406    -0.014557 -0.030701  \n",
       "start_lng               0.000297    -0.048353     0.014242 -0.007978  \n",
       "end_lat                -0.014043    -0.057856    -0.006245  0.061752  \n",
       "end_lng                 0.034494     0.017789    -0.012494  0.009425  \n",
       "distance_km            -0.031475     0.066093     0.022646 -0.008686  \n",
       "traffic_density         1.000000    -0.010457     0.018572 -0.009196  \n",
       "day_of_week            -0.010457     1.000000     0.020010  0.072280  \n",
       "hour_of_day             0.018572     0.020010     1.000000  0.009233  \n",
       "ETA                    -0.009196     0.072280     0.009233  1.000000  "
      ]
     },
     "execution_count": 6,
     "metadata": {},
     "output_type": "execute_result"
    }
   ],
   "source": [
    "df.corr(numeric_only=True)"
   ]
  },
  {
   "cell_type": "markdown",
   "id": "a6a66b9e-a0bf-4a4a-8a49-b98019debbe9",
   "metadata": {},
   "source": [
    "# Data Cleaning"
   ]
  },
  {
   "cell_type": "markdown",
   "id": "9bbadf8f-059f-475d-8d5b-16330854f17d",
   "metadata": {},
   "source": [
    "## Feature engineering"
   ]
  },
  {
   "cell_type": "code",
   "execution_count": 7,
   "id": "ebced829-3f4d-480d-acd6-8e9e57b1326f",
   "metadata": {},
   "outputs": [
    {
     "data": {
      "text/html": [
       "<div>\n",
       "<style scoped>\n",
       "    .dataframe tbody tr th:only-of-type {\n",
       "        vertical-align: middle;\n",
       "    }\n",
       "\n",
       "    .dataframe tbody tr th {\n",
       "        vertical-align: top;\n",
       "    }\n",
       "\n",
       "    .dataframe thead th {\n",
       "        text-align: right;\n",
       "    }\n",
       "</style>\n",
       "<table border=\"1\" class=\"dataframe\">\n",
       "  <thead>\n",
       "    <tr style=\"text-align: right;\">\n",
       "      <th></th>\n",
       "      <th>start_lat</th>\n",
       "      <th>start_lng</th>\n",
       "      <th>end_lat</th>\n",
       "      <th>end_lng</th>\n",
       "      <th>distance_km</th>\n",
       "      <th>traffic_density</th>\n",
       "      <th>weather_condition</th>\n",
       "      <th>day_of_week</th>\n",
       "      <th>hour_of_day</th>\n",
       "      <th>ETA</th>\n",
       "    </tr>\n",
       "  </thead>\n",
       "  <tbody>\n",
       "    <tr>\n",
       "      <th>0</th>\n",
       "      <td>17.312362</td>\n",
       "      <td>78.355540</td>\n",
       "      <td>17.278512</td>\n",
       "      <td>78.501811</td>\n",
       "      <td>17.587880</td>\n",
       "      <td>3</td>\n",
       "      <td>rainy</td>\n",
       "      <td>3</td>\n",
       "      <td>17</td>\n",
       "      <td>26.113020</td>\n",
       "    </tr>\n",
       "    <tr>\n",
       "      <th>1</th>\n",
       "      <td>17.485214</td>\n",
       "      <td>78.462570</td>\n",
       "      <td>17.274094</td>\n",
       "      <td>78.539004</td>\n",
       "      <td>24.357538</td>\n",
       "      <td>8</td>\n",
       "      <td>clear</td>\n",
       "      <td>5</td>\n",
       "      <td>14</td>\n",
       "      <td>58.715248</td>\n",
       "    </tr>\n",
       "    <tr>\n",
       "      <th>2</th>\n",
       "      <td>17.419598</td>\n",
       "      <td>78.561884</td>\n",
       "      <td>17.471876</td>\n",
       "      <td>78.375140</td>\n",
       "      <td>23.044667</td>\n",
       "      <td>7</td>\n",
       "      <td>rainy</td>\n",
       "      <td>6</td>\n",
       "      <td>8</td>\n",
       "      <td>59.316409</td>\n",
       "    </tr>\n",
       "    <tr>\n",
       "      <th>3</th>\n",
       "      <td>17.379598</td>\n",
       "      <td>78.519667</td>\n",
       "      <td>17.274864</td>\n",
       "      <td>78.487462</td>\n",
       "      <td>5.463097</td>\n",
       "      <td>3</td>\n",
       "      <td>clear</td>\n",
       "      <td>2</td>\n",
       "      <td>17</td>\n",
       "      <td>35.630253</td>\n",
       "    </tr>\n",
       "    <tr>\n",
       "      <th>4</th>\n",
       "      <td>17.246806</td>\n",
       "      <td>78.541968</td>\n",
       "      <td>17.281585</td>\n",
       "      <td>78.471524</td>\n",
       "      <td>5.328235</td>\n",
       "      <td>6</td>\n",
       "      <td>clear</td>\n",
       "      <td>1</td>\n",
       "      <td>2</td>\n",
       "      <td>56.713490</td>\n",
       "    </tr>\n",
       "    <tr>\n",
       "      <th>...</th>\n",
       "      <td>...</td>\n",
       "      <td>...</td>\n",
       "      <td>...</td>\n",
       "      <td>...</td>\n",
       "      <td>...</td>\n",
       "      <td>...</td>\n",
       "      <td>...</td>\n",
       "      <td>...</td>\n",
       "      <td>...</td>\n",
       "      <td>...</td>\n",
       "    </tr>\n",
       "    <tr>\n",
       "      <th>995</th>\n",
       "      <td>17.227475</td>\n",
       "      <td>78.497087</td>\n",
       "      <td>17.459589</td>\n",
       "      <td>78.432632</td>\n",
       "      <td>27.024522</td>\n",
       "      <td>9</td>\n",
       "      <td>clear</td>\n",
       "      <td>2</td>\n",
       "      <td>4</td>\n",
       "      <td>18.585042</td>\n",
       "    </tr>\n",
       "    <tr>\n",
       "      <th>996</th>\n",
       "      <td>17.475194</td>\n",
       "      <td>78.586984</td>\n",
       "      <td>17.247182</td>\n",
       "      <td>78.400320</td>\n",
       "      <td>4.462049</td>\n",
       "      <td>1</td>\n",
       "      <td>rainy</td>\n",
       "      <td>5</td>\n",
       "      <td>14</td>\n",
       "      <td>42.688225</td>\n",
       "    </tr>\n",
       "    <tr>\n",
       "      <th>997</th>\n",
       "      <td>17.241046</td>\n",
       "      <td>78.320687</td>\n",
       "      <td>17.292936</td>\n",
       "      <td>78.418372</td>\n",
       "      <td>10.507442</td>\n",
       "      <td>1</td>\n",
       "      <td>clear</td>\n",
       "      <td>5</td>\n",
       "      <td>12</td>\n",
       "      <td>11.273635</td>\n",
       "    </tr>\n",
       "    <tr>\n",
       "      <th>998</th>\n",
       "      <td>17.485071</td>\n",
       "      <td>78.317116</td>\n",
       "      <td>17.287014</td>\n",
       "      <td>78.458982</td>\n",
       "      <td>24.656616</td>\n",
       "      <td>4</td>\n",
       "      <td>rainy</td>\n",
       "      <td>5</td>\n",
       "      <td>12</td>\n",
       "      <td>13.180450</td>\n",
       "    </tr>\n",
       "    <tr>\n",
       "      <th>999</th>\n",
       "      <td>17.333802</td>\n",
       "      <td>78.384656</td>\n",
       "      <td>17.461424</td>\n",
       "      <td>78.348410</td>\n",
       "      <td>18.322059</td>\n",
       "      <td>4</td>\n",
       "      <td>rainy</td>\n",
       "      <td>3</td>\n",
       "      <td>12</td>\n",
       "      <td>21.053944</td>\n",
       "    </tr>\n",
       "  </tbody>\n",
       "</table>\n",
       "<p>1000 rows × 10 columns</p>\n",
       "</div>"
      ],
      "text/plain": [
       "     start_lat  start_lng    end_lat    end_lng  distance_km  traffic_density  \\\n",
       "0    17.312362  78.355540  17.278512  78.501811    17.587880                3   \n",
       "1    17.485214  78.462570  17.274094  78.539004    24.357538                8   \n",
       "2    17.419598  78.561884  17.471876  78.375140    23.044667                7   \n",
       "3    17.379598  78.519667  17.274864  78.487462     5.463097                3   \n",
       "4    17.246806  78.541968  17.281585  78.471524     5.328235                6   \n",
       "..         ...        ...        ...        ...          ...              ...   \n",
       "995  17.227475  78.497087  17.459589  78.432632    27.024522                9   \n",
       "996  17.475194  78.586984  17.247182  78.400320     4.462049                1   \n",
       "997  17.241046  78.320687  17.292936  78.418372    10.507442                1   \n",
       "998  17.485071  78.317116  17.287014  78.458982    24.656616                4   \n",
       "999  17.333802  78.384656  17.461424  78.348410    18.322059                4   \n",
       "\n",
       "    weather_condition  day_of_week  hour_of_day        ETA  \n",
       "0               rainy            3           17  26.113020  \n",
       "1               clear            5           14  58.715248  \n",
       "2               rainy            6            8  59.316409  \n",
       "3               clear            2           17  35.630253  \n",
       "4               clear            1            2  56.713490  \n",
       "..                ...          ...          ...        ...  \n",
       "995             clear            2            4  18.585042  \n",
       "996             rainy            5           14  42.688225  \n",
       "997             clear            5           12  11.273635  \n",
       "998             rainy            5           12  13.180450  \n",
       "999             rainy            3           12  21.053944  \n",
       "\n",
       "[1000 rows x 10 columns]"
      ]
     },
     "execution_count": 7,
     "metadata": {},
     "output_type": "execute_result"
    }
   ],
   "source": [
    "df"
   ]
  },
  {
   "cell_type": "code",
   "execution_count": 8,
   "id": "8de9d149-95f8-4a0a-9e4c-4fff9f5b3f40",
   "metadata": {},
   "outputs": [
    {
     "data": {
      "text/plain": [
       "array(['rainy', 'clear', 'foggy'], dtype=object)"
      ]
     },
     "execution_count": 8,
     "metadata": {},
     "output_type": "execute_result"
    }
   ],
   "source": [
    "df['weather_condition'].unique()"
   ]
  },
  {
   "cell_type": "code",
   "execution_count": 9,
   "id": "f1439d74-fe6f-4405-9d9a-02061d013a9f",
   "metadata": {},
   "outputs": [],
   "source": [
    "df['weather_condition'] = df['weather_condition'].map({'rainy':1,'foggy':2,'clear':3})"
   ]
  },
  {
   "cell_type": "markdown",
   "id": "553e3e9b-b3f0-4cf1-be59-49227645b6c0",
   "metadata": {},
   "source": [
    "# Model Building"
   ]
  },
  {
   "cell_type": "markdown",
   "id": "e8e0cc93-7f3e-4ecb-995a-725d46073671",
   "metadata": {},
   "source": [
    "splitting the input and output"
   ]
  },
  {
   "cell_type": "code",
   "execution_count": 10,
   "id": "d9a81f8e-e1e3-4c76-b38d-63b8dc098cf6",
   "metadata": {},
   "outputs": [
    {
     "data": {
      "text/html": [
       "<div>\n",
       "<style scoped>\n",
       "    .dataframe tbody tr th:only-of-type {\n",
       "        vertical-align: middle;\n",
       "    }\n",
       "\n",
       "    .dataframe tbody tr th {\n",
       "        vertical-align: top;\n",
       "    }\n",
       "\n",
       "    .dataframe thead th {\n",
       "        text-align: right;\n",
       "    }\n",
       "</style>\n",
       "<table border=\"1\" class=\"dataframe\">\n",
       "  <thead>\n",
       "    <tr style=\"text-align: right;\">\n",
       "      <th></th>\n",
       "      <th>start_lat</th>\n",
       "      <th>start_lng</th>\n",
       "      <th>end_lat</th>\n",
       "      <th>end_lng</th>\n",
       "      <th>distance_km</th>\n",
       "      <th>traffic_density</th>\n",
       "      <th>weather_condition</th>\n",
       "      <th>day_of_week</th>\n",
       "      <th>hour_of_day</th>\n",
       "      <th>ETA</th>\n",
       "    </tr>\n",
       "  </thead>\n",
       "  <tbody>\n",
       "    <tr>\n",
       "      <th>0</th>\n",
       "      <td>17.312362</td>\n",
       "      <td>78.355540</td>\n",
       "      <td>17.278512</td>\n",
       "      <td>78.501811</td>\n",
       "      <td>17.587880</td>\n",
       "      <td>3</td>\n",
       "      <td>1</td>\n",
       "      <td>3</td>\n",
       "      <td>17</td>\n",
       "      <td>26.113020</td>\n",
       "    </tr>\n",
       "    <tr>\n",
       "      <th>1</th>\n",
       "      <td>17.485214</td>\n",
       "      <td>78.462570</td>\n",
       "      <td>17.274094</td>\n",
       "      <td>78.539004</td>\n",
       "      <td>24.357538</td>\n",
       "      <td>8</td>\n",
       "      <td>3</td>\n",
       "      <td>5</td>\n",
       "      <td>14</td>\n",
       "      <td>58.715248</td>\n",
       "    </tr>\n",
       "    <tr>\n",
       "      <th>2</th>\n",
       "      <td>17.419598</td>\n",
       "      <td>78.561884</td>\n",
       "      <td>17.471876</td>\n",
       "      <td>78.375140</td>\n",
       "      <td>23.044667</td>\n",
       "      <td>7</td>\n",
       "      <td>1</td>\n",
       "      <td>6</td>\n",
       "      <td>8</td>\n",
       "      <td>59.316409</td>\n",
       "    </tr>\n",
       "    <tr>\n",
       "      <th>3</th>\n",
       "      <td>17.379598</td>\n",
       "      <td>78.519667</td>\n",
       "      <td>17.274864</td>\n",
       "      <td>78.487462</td>\n",
       "      <td>5.463097</td>\n",
       "      <td>3</td>\n",
       "      <td>3</td>\n",
       "      <td>2</td>\n",
       "      <td>17</td>\n",
       "      <td>35.630253</td>\n",
       "    </tr>\n",
       "    <tr>\n",
       "      <th>4</th>\n",
       "      <td>17.246806</td>\n",
       "      <td>78.541968</td>\n",
       "      <td>17.281585</td>\n",
       "      <td>78.471524</td>\n",
       "      <td>5.328235</td>\n",
       "      <td>6</td>\n",
       "      <td>3</td>\n",
       "      <td>1</td>\n",
       "      <td>2</td>\n",
       "      <td>56.713490</td>\n",
       "    </tr>\n",
       "  </tbody>\n",
       "</table>\n",
       "</div>"
      ],
      "text/plain": [
       "   start_lat  start_lng    end_lat    end_lng  distance_km  traffic_density  \\\n",
       "0  17.312362  78.355540  17.278512  78.501811    17.587880                3   \n",
       "1  17.485214  78.462570  17.274094  78.539004    24.357538                8   \n",
       "2  17.419598  78.561884  17.471876  78.375140    23.044667                7   \n",
       "3  17.379598  78.519667  17.274864  78.487462     5.463097                3   \n",
       "4  17.246806  78.541968  17.281585  78.471524     5.328235                6   \n",
       "\n",
       "   weather_condition  day_of_week  hour_of_day        ETA  \n",
       "0                  1            3           17  26.113020  \n",
       "1                  3            5           14  58.715248  \n",
       "2                  1            6            8  59.316409  \n",
       "3                  3            2           17  35.630253  \n",
       "4                  3            1            2  56.713490  "
      ]
     },
     "execution_count": 10,
     "metadata": {},
     "output_type": "execute_result"
    }
   ],
   "source": [
    "df.head()"
   ]
  },
  {
   "cell_type": "code",
   "execution_count": 11,
   "id": "9f049ffe-7111-4b4c-8ad7-c475fddb4ce5",
   "metadata": {},
   "outputs": [],
   "source": [
    "x = df.drop('ETA',axis =1)\n",
    "y = df['ETA']"
   ]
  },
  {
   "cell_type": "code",
   "execution_count": 12,
   "id": "954ba500-9857-4e65-85ea-d96dec39a4c5",
   "metadata": {},
   "outputs": [
    {
     "name": "stdout",
     "output_type": "stream",
     "text": [
      "Requirement already satisfied: scikit-learn in c:\\users\\faizan\\anaconda3\\lib\\site-packages (1.2.2)\n",
      "Requirement already satisfied: numpy>=1.17.3 in c:\\users\\faizan\\anaconda3\\lib\\site-packages (from scikit-learn) (1.26.4)\n",
      "Requirement already satisfied: scipy>=1.3.2 in c:\\users\\faizan\\anaconda3\\lib\\site-packages (from scikit-learn) (1.11.4)\n",
      "Requirement already satisfied: joblib>=1.1.1 in c:\\users\\faizan\\anaconda3\\lib\\site-packages (from scikit-learn) (1.2.0)\n",
      "Requirement already satisfied: threadpoolctl>=2.0.0 in c:\\users\\faizan\\anaconda3\\lib\\site-packages (from scikit-learn) (2.2.0)\n"
     ]
    }
   ],
   "source": [
    "!pip install scikit-learn"
   ]
  },
  {
   "cell_type": "code",
   "execution_count": 13,
   "id": "2af558f1-39bf-491e-ab98-fcbea7a9a8cb",
   "metadata": {},
   "outputs": [],
   "source": [
    "from sklearn.model_selection import train_test_split\n",
    "from sklearn.metrics import mean_squared_error"
   ]
  },
  {
   "cell_type": "code",
   "execution_count": 14,
   "id": "5390f1c6-517e-4e97-9e7c-5ced69401b6b",
   "metadata": {},
   "outputs": [],
   "source": [
    "x_train,x_test,y_train,y_test = train_test_split(x,y,test_size=0.2,random_state=23)"
   ]
  },
  {
   "cell_type": "code",
   "execution_count": 15,
   "id": "cbc7510d-ff23-4dbd-a32f-f7b9c957ae8d",
   "metadata": {},
   "outputs": [
    {
     "data": {
      "text/html": [
       "<div>\n",
       "<style scoped>\n",
       "    .dataframe tbody tr th:only-of-type {\n",
       "        vertical-align: middle;\n",
       "    }\n",
       "\n",
       "    .dataframe tbody tr th {\n",
       "        vertical-align: top;\n",
       "    }\n",
       "\n",
       "    .dataframe thead th {\n",
       "        text-align: right;\n",
       "    }\n",
       "</style>\n",
       "<table border=\"1\" class=\"dataframe\">\n",
       "  <thead>\n",
       "    <tr style=\"text-align: right;\">\n",
       "      <th></th>\n",
       "      <th>start_lat</th>\n",
       "      <th>start_lng</th>\n",
       "      <th>end_lat</th>\n",
       "      <th>end_lng</th>\n",
       "      <th>distance_km</th>\n",
       "      <th>traffic_density</th>\n",
       "      <th>weather_condition</th>\n",
       "      <th>day_of_week</th>\n",
       "      <th>hour_of_day</th>\n",
       "    </tr>\n",
       "  </thead>\n",
       "  <tbody>\n",
       "    <tr>\n",
       "      <th>519</th>\n",
       "      <td>17.245125</td>\n",
       "      <td>78.578110</td>\n",
       "      <td>17.416812</td>\n",
       "      <td>78.363238</td>\n",
       "      <td>1.654371</td>\n",
       "      <td>2</td>\n",
       "      <td>2</td>\n",
       "      <td>2</td>\n",
       "      <td>3</td>\n",
       "    </tr>\n",
       "    <tr>\n",
       "      <th>837</th>\n",
       "      <td>17.308718</td>\n",
       "      <td>78.401480</td>\n",
       "      <td>17.213473</td>\n",
       "      <td>78.335593</td>\n",
       "      <td>12.991979</td>\n",
       "      <td>5</td>\n",
       "      <td>3</td>\n",
       "      <td>4</td>\n",
       "      <td>0</td>\n",
       "    </tr>\n",
       "    <tr>\n",
       "      <th>208</th>\n",
       "      <td>17.201518</td>\n",
       "      <td>78.382088</td>\n",
       "      <td>17.287665</td>\n",
       "      <td>78.431763</td>\n",
       "      <td>3.494933</td>\n",
       "      <td>10</td>\n",
       "      <td>1</td>\n",
       "      <td>0</td>\n",
       "      <td>9</td>\n",
       "    </tr>\n",
       "    <tr>\n",
       "      <th>525</th>\n",
       "      <td>17.340608</td>\n",
       "      <td>78.377033</td>\n",
       "      <td>17.283628</td>\n",
       "      <td>78.344183</td>\n",
       "      <td>13.460528</td>\n",
       "      <td>3</td>\n",
       "      <td>1</td>\n",
       "      <td>5</td>\n",
       "      <td>16</td>\n",
       "    </tr>\n",
       "    <tr>\n",
       "      <th>978</th>\n",
       "      <td>17.348910</td>\n",
       "      <td>78.561819</td>\n",
       "      <td>17.411110</td>\n",
       "      <td>78.315172</td>\n",
       "      <td>1.027359</td>\n",
       "      <td>3</td>\n",
       "      <td>2</td>\n",
       "      <td>0</td>\n",
       "      <td>20</td>\n",
       "    </tr>\n",
       "    <tr>\n",
       "      <th>...</th>\n",
       "      <td>...</td>\n",
       "      <td>...</td>\n",
       "      <td>...</td>\n",
       "      <td>...</td>\n",
       "      <td>...</td>\n",
       "      <td>...</td>\n",
       "      <td>...</td>\n",
       "      <td>...</td>\n",
       "      <td>...</td>\n",
       "    </tr>\n",
       "    <tr>\n",
       "      <th>647</th>\n",
       "      <td>17.403731</td>\n",
       "      <td>78.547820</td>\n",
       "      <td>17.350120</td>\n",
       "      <td>78.428996</td>\n",
       "      <td>8.317127</td>\n",
       "      <td>3</td>\n",
       "      <td>2</td>\n",
       "      <td>0</td>\n",
       "      <td>2</td>\n",
       "    </tr>\n",
       "    <tr>\n",
       "      <th>481</th>\n",
       "      <td>17.408725</td>\n",
       "      <td>78.336063</td>\n",
       "      <td>17.463127</td>\n",
       "      <td>78.471782</td>\n",
       "      <td>14.680455</td>\n",
       "      <td>4</td>\n",
       "      <td>2</td>\n",
       "      <td>5</td>\n",
       "      <td>21</td>\n",
       "    </tr>\n",
       "    <tr>\n",
       "      <th>134</th>\n",
       "      <td>17.482873</td>\n",
       "      <td>78.504978</td>\n",
       "      <td>17.415806</td>\n",
       "      <td>78.360085</td>\n",
       "      <td>18.210380</td>\n",
       "      <td>8</td>\n",
       "      <td>2</td>\n",
       "      <td>3</td>\n",
       "      <td>23</td>\n",
       "    </tr>\n",
       "    <tr>\n",
       "      <th>366</th>\n",
       "      <td>17.488357</td>\n",
       "      <td>78.514747</td>\n",
       "      <td>17.236901</td>\n",
       "      <td>78.397354</td>\n",
       "      <td>3.323066</td>\n",
       "      <td>7</td>\n",
       "      <td>3</td>\n",
       "      <td>0</td>\n",
       "      <td>14</td>\n",
       "    </tr>\n",
       "    <tr>\n",
       "      <th>879</th>\n",
       "      <td>17.266592</td>\n",
       "      <td>78.469507</td>\n",
       "      <td>17.255841</td>\n",
       "      <td>78.369414</td>\n",
       "      <td>24.895932</td>\n",
       "      <td>3</td>\n",
       "      <td>2</td>\n",
       "      <td>4</td>\n",
       "      <td>15</td>\n",
       "    </tr>\n",
       "  </tbody>\n",
       "</table>\n",
       "<p>200 rows × 9 columns</p>\n",
       "</div>"
      ],
      "text/plain": [
       "     start_lat  start_lng    end_lat    end_lng  distance_km  traffic_density  \\\n",
       "519  17.245125  78.578110  17.416812  78.363238     1.654371                2   \n",
       "837  17.308718  78.401480  17.213473  78.335593    12.991979                5   \n",
       "208  17.201518  78.382088  17.287665  78.431763     3.494933               10   \n",
       "525  17.340608  78.377033  17.283628  78.344183    13.460528                3   \n",
       "978  17.348910  78.561819  17.411110  78.315172     1.027359                3   \n",
       "..         ...        ...        ...        ...          ...              ...   \n",
       "647  17.403731  78.547820  17.350120  78.428996     8.317127                3   \n",
       "481  17.408725  78.336063  17.463127  78.471782    14.680455                4   \n",
       "134  17.482873  78.504978  17.415806  78.360085    18.210380                8   \n",
       "366  17.488357  78.514747  17.236901  78.397354     3.323066                7   \n",
       "879  17.266592  78.469507  17.255841  78.369414    24.895932                3   \n",
       "\n",
       "     weather_condition  day_of_week  hour_of_day  \n",
       "519                  2            2            3  \n",
       "837                  3            4            0  \n",
       "208                  1            0            9  \n",
       "525                  1            5           16  \n",
       "978                  2            0           20  \n",
       "..                 ...          ...          ...  \n",
       "647                  2            0            2  \n",
       "481                  2            5           21  \n",
       "134                  2            3           23  \n",
       "366                  3            0           14  \n",
       "879                  2            4           15  \n",
       "\n",
       "[200 rows x 9 columns]"
      ]
     },
     "execution_count": 15,
     "metadata": {},
     "output_type": "execute_result"
    }
   ],
   "source": [
    "x_test"
   ]
  },
  {
   "cell_type": "markdown",
   "id": "3d5b88d5-c96a-4113-9f96-872a529eba36",
   "metadata": {},
   "source": [
    "## Linear Regression"
   ]
  },
  {
   "cell_type": "code",
   "execution_count": 16,
   "id": "1c93833c-f667-4f56-bf11-48f0d97ce010",
   "metadata": {},
   "outputs": [
    {
     "data": {
      "text/plain": [
       "228.5919996249638"
      ]
     },
     "execution_count": 16,
     "metadata": {},
     "output_type": "execute_result"
    }
   ],
   "source": [
    "from sklearn.linear_model import LinearRegression\n",
    "lr = LinearRegression()\n",
    "lr.fit(x_train,y_train)\n",
    "y_pred = lr.predict(x_test)\n",
    "mean_squared_error(y_test,y_pred)"
   ]
  },
  {
   "cell_type": "markdown",
   "id": "357fc70e-9ac3-49dd-915c-3680e8129ba6",
   "metadata": {},
   "source": [
    "## KNN Regression"
   ]
  },
  {
   "cell_type": "code",
   "execution_count": 17,
   "id": "2b7b3d4b-768c-400f-8ab8-cb2b90ac985b",
   "metadata": {},
   "outputs": [
    {
     "data": {
      "text/plain": [
       "245.11420625818508"
      ]
     },
     "execution_count": 17,
     "metadata": {},
     "output_type": "execute_result"
    }
   ],
   "source": [
    "from sklearn.neighbors import KNeighborsRegressor\n",
    "knn = KNeighborsRegressor()\n",
    "knn.fit(x_train,y_train)\n",
    "y_pred = knn.predict(x_test)\n",
    "mean_squared_error(y_test,y_pred)"
   ]
  },
  {
   "cell_type": "markdown",
   "id": "8e175987-2340-4501-aa27-980afbbe733a",
   "metadata": {},
   "source": [
    "## Descision Tree"
   ]
  },
  {
   "cell_type": "code",
   "execution_count": 18,
   "id": "35756ea5-6568-432c-96c5-091fc94b24ff",
   "metadata": {},
   "outputs": [
    {
     "data": {
      "text/plain": [
       "394.4133394623648"
      ]
     },
     "execution_count": 18,
     "metadata": {},
     "output_type": "execute_result"
    }
   ],
   "source": [
    "from sklearn.tree import DecisionTreeRegressor\n",
    "dt = DecisionTreeRegressor()\n",
    "dt.fit(x_train,y_train)\n",
    "y_pred = dt.predict(x_test)\n",
    "mean_squared_error(y_test,y_pred)"
   ]
  },
  {
   "cell_type": "markdown",
   "id": "1d82c511-d46c-42a4-a462-e0b6f3b30651",
   "metadata": {},
   "source": [
    "## SVR"
   ]
  },
  {
   "cell_type": "code",
   "execution_count": 19,
   "id": "015ff6d4-8d48-48f0-a63d-280d30b81167",
   "metadata": {},
   "outputs": [
    {
     "data": {
      "text/plain": [
       "226.54505877560223"
      ]
     },
     "execution_count": 19,
     "metadata": {},
     "output_type": "execute_result"
    }
   ],
   "source": [
    "from sklearn.svm import SVR\n",
    "sv = SVR()\n",
    "sv.fit(x_train,y_train)\n",
    "y_pred = sv.predict(x_test)\n",
    "mean_squared_error(y_test,y_pred)"
   ]
  },
  {
   "cell_type": "code",
   "execution_count": 20,
   "id": "ef4b3c4e-fa80-4e6b-bd28-431f4fe82735",
   "metadata": {},
   "outputs": [
    {
     "data": {
      "text/plain": [
       "array([-4.22512291, -0.65865854, 14.34596171,  3.93849869, -0.04716621,\n",
       "       -0.13704362,  0.08144095,  0.53928957,  0.06447841])"
      ]
     },
     "execution_count": 20,
     "metadata": {},
     "output_type": "execute_result"
    }
   ],
   "source": [
    "lr.coef_"
   ]
  },
  {
   "cell_type": "code",
   "execution_count": 21,
   "id": "25f8b3dc-c63d-439e-b0f3-be0742395649",
   "metadata": {},
   "outputs": [
    {
     "data": {
      "text/plain": [
       "-398.57379847972663"
      ]
     },
     "execution_count": 21,
     "metadata": {},
     "output_type": "execute_result"
    }
   ],
   "source": [
    "lr.intercept_"
   ]
  },
  {
   "cell_type": "markdown",
   "id": "88d27312-fd31-40f6-9bfc-979854f874b5",
   "metadata": {},
   "source": [
    "# Deployement"
   ]
  },
  {
   "cell_type": "code",
   "execution_count": 22,
   "id": "dec0a75e-79c7-4b86-8474-99db696aea07",
   "metadata": {},
   "outputs": [
    {
     "name": "stdin",
     "output_type": "stream",
     "text": [
      "Enter the star latttude: 17.4933\n",
      "Enter the star lagitude: 78.3914\n",
      "Enter the dest lattttude: 17.4933\n",
      "Enter the end langitude: 78.3914\n",
      "Enter the distance: 15.5\n",
      "Enter the density: 4\n",
      "Enter the star lat: 1\n",
      "Enter the day: 4\n",
      "Enter the hour: 11\n"
     ]
    },
    {
     "name": "stdout",
     "output_type": "stream",
     "text": [
      "The Estimated time is 37.25294330241445 min\n"
     ]
    },
    {
     "name": "stderr",
     "output_type": "stream",
     "text": [
      "C:\\Users\\Faizan\\anaconda3\\Lib\\site-packages\\sklearn\\base.py:439: UserWarning: X does not have valid feature names, but LinearRegression was fitted with feature names\n",
      "  warnings.warn(\n"
     ]
    }
   ],
   "source": [
    "start_lat = float(input(\"Enter the star latttude:\"))\n",
    "start_lang = float(input(\"Enter the star lagitude:\"))\n",
    "end_lat = float(input(\"Enter the dest lattttude:\"))\n",
    "end_lang = float(input(\"Enter the end langitude:\"))\n",
    "dist = float(input(\"Enter the distance:\"))\n",
    "density = int(input(\"Enter the density:\"))\n",
    "weather = int(input(\"Enter the star lat:\"))\n",
    "day  = int(input(\"Enter the day:\"))\n",
    "hour = int(input(\"Enter the hour:\"))\n",
    "time = lr.predict([[start_lat,start_lang ,end_lat,end_lang,dist,density,weather,day,hour]])[0]\n",
    "print(\"The Estimated time is\",time,'min')"
   ]
  },
  {
   "cell_type": "code",
   "execution_count": 23,
   "id": "1e6c1e3c-06c0-4219-8f2d-f870e175ac9f",
   "metadata": {},
   "outputs": [
    {
     "data": {
      "text/plain": [
       "array([-4.22512291, -0.65865854, 14.34596171,  3.93849869, -0.04716621,\n",
       "       -0.13704362,  0.08144095,  0.53928957,  0.06447841])"
      ]
     },
     "execution_count": 23,
     "metadata": {},
     "output_type": "execute_result"
    }
   ],
   "source": [
    "lr.coef_"
   ]
  },
  {
   "cell_type": "code",
   "execution_count": 24,
   "id": "bd7b7090-7444-452d-be63-d48d9e2db711",
   "metadata": {},
   "outputs": [],
   "source": [
    "eta = -4.22512291*start_lat-0.65865854*start_lang+14.34596171*end_lat+3.93849869*end_lang-0.04716621*dist-0.13704362*density+0.08144095*weather+0.53928957*day+ 0.06447841*time-398.5737984797196"
   ]
  },
  {
   "cell_type": "markdown",
   "id": "84b4214e-233b-476c-b9bf-be2ced5fc064",
   "metadata": {},
   "source": [
    "## Pickle the model"
   ]
  },
  {
   "cell_type": "code",
   "execution_count": 25,
   "id": "dcc4392c-3787-4a4b-89e1-970872e3e225",
   "metadata": {},
   "outputs": [],
   "source": [
    "import pickle"
   ]
  },
  {
   "cell_type": "code",
   "execution_count": 26,
   "id": "670a5c96-940a-4d6d-9474-458bed3da7f4",
   "metadata": {},
   "outputs": [],
   "source": [
    "pickle.dump(lr,open('estimator.pkl','wb'))"
   ]
  },
  {
   "cell_type": "code",
   "execution_count": 27,
   "id": "cc928ce7-f56c-4fa5-9882-6dea7dd6745e",
   "metadata": {},
   "outputs": [],
   "source": [
    "model = pickle.load(open('estimator.pkl','rb'))"
   ]
  },
  {
   "cell_type": "code",
   "execution_count": 28,
   "id": "ae5d7cd3-34a7-4cd3-bb21-9cf7fe8c2207",
   "metadata": {},
   "outputs": [
    {
     "data": {
      "text/html": [
       "<style>#sk-container-id-1 {color: black;background-color: white;}#sk-container-id-1 pre{padding: 0;}#sk-container-id-1 div.sk-toggleable {background-color: white;}#sk-container-id-1 label.sk-toggleable__label {cursor: pointer;display: block;width: 100%;margin-bottom: 0;padding: 0.3em;box-sizing: border-box;text-align: center;}#sk-container-id-1 label.sk-toggleable__label-arrow:before {content: \"▸\";float: left;margin-right: 0.25em;color: #696969;}#sk-container-id-1 label.sk-toggleable__label-arrow:hover:before {color: black;}#sk-container-id-1 div.sk-estimator:hover label.sk-toggleable__label-arrow:before {color: black;}#sk-container-id-1 div.sk-toggleable__content {max-height: 0;max-width: 0;overflow: hidden;text-align: left;background-color: #f0f8ff;}#sk-container-id-1 div.sk-toggleable__content pre {margin: 0.2em;color: black;border-radius: 0.25em;background-color: #f0f8ff;}#sk-container-id-1 input.sk-toggleable__control:checked~div.sk-toggleable__content {max-height: 200px;max-width: 100%;overflow: auto;}#sk-container-id-1 input.sk-toggleable__control:checked~label.sk-toggleable__label-arrow:before {content: \"▾\";}#sk-container-id-1 div.sk-estimator input.sk-toggleable__control:checked~label.sk-toggleable__label {background-color: #d4ebff;}#sk-container-id-1 div.sk-label input.sk-toggleable__control:checked~label.sk-toggleable__label {background-color: #d4ebff;}#sk-container-id-1 input.sk-hidden--visually {border: 0;clip: rect(1px 1px 1px 1px);clip: rect(1px, 1px, 1px, 1px);height: 1px;margin: -1px;overflow: hidden;padding: 0;position: absolute;width: 1px;}#sk-container-id-1 div.sk-estimator {font-family: monospace;background-color: #f0f8ff;border: 1px dotted black;border-radius: 0.25em;box-sizing: border-box;margin-bottom: 0.5em;}#sk-container-id-1 div.sk-estimator:hover {background-color: #d4ebff;}#sk-container-id-1 div.sk-parallel-item::after {content: \"\";width: 100%;border-bottom: 1px solid gray;flex-grow: 1;}#sk-container-id-1 div.sk-label:hover label.sk-toggleable__label {background-color: #d4ebff;}#sk-container-id-1 div.sk-serial::before {content: \"\";position: absolute;border-left: 1px solid gray;box-sizing: border-box;top: 0;bottom: 0;left: 50%;z-index: 0;}#sk-container-id-1 div.sk-serial {display: flex;flex-direction: column;align-items: center;background-color: white;padding-right: 0.2em;padding-left: 0.2em;position: relative;}#sk-container-id-1 div.sk-item {position: relative;z-index: 1;}#sk-container-id-1 div.sk-parallel {display: flex;align-items: stretch;justify-content: center;background-color: white;position: relative;}#sk-container-id-1 div.sk-item::before, #sk-container-id-1 div.sk-parallel-item::before {content: \"\";position: absolute;border-left: 1px solid gray;box-sizing: border-box;top: 0;bottom: 0;left: 50%;z-index: -1;}#sk-container-id-1 div.sk-parallel-item {display: flex;flex-direction: column;z-index: 1;position: relative;background-color: white;}#sk-container-id-1 div.sk-parallel-item:first-child::after {align-self: flex-end;width: 50%;}#sk-container-id-1 div.sk-parallel-item:last-child::after {align-self: flex-start;width: 50%;}#sk-container-id-1 div.sk-parallel-item:only-child::after {width: 0;}#sk-container-id-1 div.sk-dashed-wrapped {border: 1px dashed gray;margin: 0 0.4em 0.5em 0.4em;box-sizing: border-box;padding-bottom: 0.4em;background-color: white;}#sk-container-id-1 div.sk-label label {font-family: monospace;font-weight: bold;display: inline-block;line-height: 1.2em;}#sk-container-id-1 div.sk-label-container {text-align: center;}#sk-container-id-1 div.sk-container {/* jupyter's `normalize.less` sets `[hidden] { display: none; }` but bootstrap.min.css set `[hidden] { display: none !important; }` so we also need the `!important` here to be able to override the default hidden behavior on the sphinx rendered scikit-learn.org. See: https://github.com/scikit-learn/scikit-learn/issues/21755 */display: inline-block !important;position: relative;}#sk-container-id-1 div.sk-text-repr-fallback {display: none;}</style><div id=\"sk-container-id-1\" class=\"sk-top-container\"><div class=\"sk-text-repr-fallback\"><pre>LinearRegression()</pre><b>In a Jupyter environment, please rerun this cell to show the HTML representation or trust the notebook. <br />On GitHub, the HTML representation is unable to render, please try loading this page with nbviewer.org.</b></div><div class=\"sk-container\" hidden><div class=\"sk-item\"><div class=\"sk-estimator sk-toggleable\"><input class=\"sk-toggleable__control sk-hidden--visually\" id=\"sk-estimator-id-1\" type=\"checkbox\" checked><label for=\"sk-estimator-id-1\" class=\"sk-toggleable__label sk-toggleable__label-arrow\">LinearRegression</label><div class=\"sk-toggleable__content\"><pre>LinearRegression()</pre></div></div></div></div></div>"
      ],
      "text/plain": [
       "LinearRegression()"
      ]
     },
     "execution_count": 28,
     "metadata": {},
     "output_type": "execute_result"
    }
   ],
   "source": [
    "model"
   ]
  },
  {
   "cell_type": "code",
   "execution_count": 29,
   "id": "5b749fc3-53a3-42eb-ba42-13f71aac7d33",
   "metadata": {},
   "outputs": [
    {
     "name": "stdin",
     "output_type": "stream",
     "text": [
      "Enter the star latttude: 17.4933\n",
      "Enter the star lagitude: 78.3914\n",
      "Enter the dest lattttude: 17.4933\n",
      "Enter the dest langitude: 78.3914\n",
      "Enter the distance: 15.5\n",
      "Enter the density: 4\n",
      "Enter the weather condition: 1\n",
      "Enter the day: 4\n",
      "Enter the hour: 13\n"
     ]
    },
    {
     "name": "stdout",
     "output_type": "stream",
     "text": [
      "The Estimated time is 37.381900114178165 min\n"
     ]
    },
    {
     "name": "stderr",
     "output_type": "stream",
     "text": [
      "C:\\Users\\Faizan\\anaconda3\\Lib\\site-packages\\sklearn\\base.py:439: UserWarning: X does not have valid feature names, but LinearRegression was fitted with feature names\n",
      "  warnings.warn(\n"
     ]
    }
   ],
   "source": [
    "start_lat = float(input(\"Enter the star latttude:\"))\n",
    "start_lang = float(input(\"Enter the star lagitude:\"))\n",
    "end_lat = float(input(\"Enter the dest lattttude:\"))\n",
    "end_lang = float(input(\"Enter the dest langitude:\"))\n",
    "dist = float(input(\"Enter the distance:\"))\n",
    "density = int(input(\"Enter the density:\"))\n",
    "weather = int(input(\"Enter the weather condition:\"))\n",
    "day  = int(input(\"Enter the day:\"))\n",
    "hour = int(input(\"Enter the hour:\"))\n",
    "time = model.predict([[start_lat,start_lang ,end_lat,end_lang,dist,density,weather,day,hour]])[0]\n",
    "print(\"The Estimated time is\",time,'min')"
   ]
  },
  {
   "cell_type": "code",
   "execution_count": null,
   "id": "8b3ca8af-4277-483c-ba9a-ab63b04f1b3f",
   "metadata": {},
   "outputs": [],
   "source": []
  }
 ],
 "metadata": {
  "kernelspec": {
   "display_name": "Python 3 (ipykernel)",
   "language": "python",
   "name": "python3"
  },
  "language_info": {
   "codemirror_mode": {
    "name": "ipython",
    "version": 3
   },
   "file_extension": ".py",
   "mimetype": "text/x-python",
   "name": "python",
   "nbconvert_exporter": "python",
   "pygments_lexer": "ipython3",
   "version": "3.11.7"
  }
 },
 "nbformat": 4,
 "nbformat_minor": 5
}
